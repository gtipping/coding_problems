{
 "cells": [
  {
   "cell_type": "markdown",
   "metadata": {},
   "source": [
    "# Coding Problems"
   ]
  },
  {
   "cell_type": "markdown",
   "metadata": {},
   "source": [
    "Imports"
   ]
  },
  {
   "cell_type": "code",
   "execution_count": null,
   "metadata": {},
   "outputs": [],
   "source": [
    "import itertools\n",
    "import math"
   ]
  },
  {
   "cell_type": "markdown",
   "metadata": {},
   "source": [
    "#### 1) There is a staircase with N steps and you can climb any number of steps, from a given set of integers, at a time. Given N and the given set of integers (X), write a function to give the number of unique ways of climbing the steps. The number of steps matters.\n",
    "\n",
    "#### EX: If N=4 and X={1,2}, there are 5 unique ways:\n",
    "#### 1,1,1,1\n",
    "#### 2,1,1\n",
    "#### 1,2,1\n",
    "#### 1,1,2\n",
    "#### 2,2"
   ]
  },
  {
   "cell_type": "code",
   "execution_count": null,
   "metadata": {},
   "outputs": [],
   "source": [
    "def staircase(n):\n",
    "    a,b = 1,2\n",
    "    for i in range(n-1):\n",
    "        a,b = b, a+b\n",
    "    return a\n",
    "\n",
    "def staircase2(n, X):\n",
    "    if n < 0:\n",
    "        return 0\n",
    "    elif n == 0:\n",
    "        return 1\n",
    "    elif n in X:\n",
    "        return 1 + sum(staircase2(n - x, X) for x in X if x < n)\n",
    "    else:\n",
    "        return sum(staircase2(n - x, X) for x in X if x < n)\n",
    "    \n",
    "staircase2(10,{1,5})"
   ]
  },
  {
   "cell_type": "markdown",
   "metadata": {},
   "source": [
    "#### 2) Compute the running median of a sequence of numbers."
   ]
  },
  {
   "cell_type": "code",
   "execution_count": null,
   "metadata": {},
   "outputs": [],
   "source": [
    "def median_printer(list1):\n",
    "    \n",
    "    for i in range(0,len(list1),1):\n",
    "        \n",
    "        # If length is 1 then median is just that number\n",
    "        if i==0:\n",
    "            print(list1[0])     \n",
    "        \n",
    "        # If length is odd (index is even) then take middle element in the sorted list\n",
    "        elif i%2 == 0:\n",
    "            list2 = list1[0:i+1]\n",
    "            list2.sort()\n",
    "            print_ele = int(i/2)\n",
    "            med = list2[print_ele]\n",
    "            print(med)\n",
    "        \n",
    "        # If length is even (index is odd) then take the average of the two middle numbers in the list\n",
    "        elif i%2 == 1 :\n",
    "            list2 = list1[0:i+1]\n",
    "            list2.sort()\n",
    "            print_ele_1 = int((i/2)-0.5)\n",
    "            print_ele_2 = int((i/2)+0.5)\n",
    "\n",
    "            med = ((list2[print_ele_1]) + (list2[print_ele_2]))/2\n",
    "            print(med)\n",
    "            \n",
    "list1 = [2, 1, 3, 5, 7, 9]\n",
    "median_printer(list1)"
   ]
  },
  {
   "cell_type": "markdown",
   "metadata": {},
   "source": [
    "#### 3) Run-length encoding is a fast and simple method of encoding strings. The basic idea is to represent repeated successive characters as a single count and character. For example, the string \"AAAABBBCCDAA\" would be encoded as \"4A3B2C1D2A\". Implement run-length encoding and decoding. You can assume the string to be encoded have no digits and consists solely of alphabetic characters. You can assume the string to be decoded is valid."
   ]
  },
  {
   "cell_type": "code",
   "execution_count": 63,
   "metadata": {},
   "outputs": [
    {
     "data": {
      "text/plain": [
       "'b1a3n1a1n1a1'"
      ]
     },
     "execution_count": 63,
     "metadata": {},
     "output_type": "execute_result"
    }
   ],
   "source": [
    "def runLengthEncoding(a,b):\n",
    "    \n",
    "    # Code for encoding\n",
    "    if b == 'enc':\n",
    "    \n",
    "        inputList=[]\n",
    "    \n",
    "        for i in range(len(a)):\n",
    "\n",
    "            if a[i] == a[(i-1)]:\n",
    "                inputList[(len(inputList)-1)][1] +=1\n",
    "            else:\n",
    "                inputList.append([a[i],1])\n",
    "\n",
    "        output = ''\n",
    "\n",
    "        for inputCharCount in inputList:\n",
    "            output = output + inputCharCount[0] + str(inputCharCount[1])\n",
    "        return output\n",
    "    \n",
    "    # Code for decoding\n",
    "    if b == 'dec':\n",
    "        word = []\n",
    "\n",
    "        for i in range(0,len(a),2):\n",
    "            for j in range(1,len(a),2):\n",
    "\n",
    "                if i == j - 1:\n",
    "                    word.append(a[i]*int(a[j]))\n",
    "\n",
    "        final_word = ''.join(word)\n",
    "        return final_word\n",
    "\n",
    "input = 'baaanana'\n",
    "runLengthEncoding(input,'enc')"
   ]
  },
  {
   "cell_type": "code",
   "execution_count": 64,
   "metadata": {},
   "outputs": [
    {
     "data": {
      "text/plain": [
       "'baaanana'"
      ]
     },
     "execution_count": 64,
     "metadata": {},
     "output_type": "execute_result"
    }
   ],
   "source": [
    "input = 'b1a3n1a1n1a1'\n",
    "runLengthEncoding(input,'dec')"
   ]
  },
  {
   "cell_type": "markdown",
   "metadata": {},
   "source": [
    "#### 4) Given an array of integers, return a new array such that each element at index i of the new array is the product of all the numbers in the original array except the one at i.\n",
    "\n",
    "#### For example, if our input was [1, 2, 3, 4, 5], the expected output would be [120, 60, 40, 30, 24]. "
   ]
  },
  {
   "cell_type": "code",
   "execution_count": null,
   "metadata": {},
   "outputs": [],
   "source": [
    "def productwithouti(a):\n",
    "    \n",
    "    # Get length of the array\n",
    "    n = len(a)\n",
    "     \n",
    "    # Define lists left, right and product to be used later\n",
    "    \n",
    "    \n",
    "    left = [0]*n\n",
    "    right = [0]*n\n",
    "    \n",
    "    product = [0]*n\n",
    "    \n",
    "    \n",
    "    # We can now split the list into two, taking what is on the left hand side of our element i\n",
    "    # and what is on the right hand side of element i.\n",
    "    # Set the first element in the left list equal to 1 and the same with the last element of \n",
    "    # the right list, this is so our formula below will work for range(1,n) although we could have\n",
    "    # just done an if statement too\n",
    "    \n",
    "    left[0] = 1\n",
    "    right[n-1] = 1\n",
    "    \n",
    "    # We start by the element at index 1, we multiply the element at index 0 by left[0] which we have\n",
    "    # set as 1. We then iterate all the way through the list using the previous number to help\n",
    "    # us calculate\n",
    "    \n",
    "    for i in range(1,n):\n",
    "        left[i] = a[i-1] * left[i-1]\n",
    "        \n",
    "    # In a similar way top above but in reverse, take the element as index n-2 to start and take the \n",
    "    # element at index n-1 and multiply by right[n-1] which is set as 1.\n",
    "    # We work backwards through the list using the previous result to help us calculate\n",
    "    \n",
    "    for j in range(n-2, -1, -1):\n",
    "        right[j] = a[j+1] * right[j+1]\n",
    "        \n",
    "    # Multiply our left-hand list by our right hand list to get total not included element at index i\n",
    "        \n",
    "    for i in range(n):\n",
    "        product[i] = left[i] * right[i]\n",
    "        \n",
    "    # Print list\n",
    "        \n",
    "    for i in range(n):\n",
    "        print(product[i], end = ' ')\n",
    "        \n",
    "a = [1,2,3,4,5]    \n",
    "productwithouti(a)  \n",
    "    "
   ]
  },
  {
   "cell_type": "markdown",
   "metadata": {},
   "source": [
    "#### 5) Given a N by M matrix of numbers, print out the matrix in a clockwise spiral.\n",
    "\n",
    "#### For example, given the following matrix:\n",
    "#### [[1,  2,  3,  4,  5],\n",
    "#### [6,  7,  8,  9,  10],\n",
    "#### [11, 12, 13, 14, 15],\n",
    "#### [16, 17, 18, 19, 20]]\n",
    "#### You should print out the following:[1,2,3,4,5,10,15,20,19,18,17,16,11,6,7,8,9,14,13,12]"
   ]
  },
  {
   "cell_type": "code",
   "execution_count": null,
   "metadata": {},
   "outputs": [],
   "source": [
    "def Spiraliser(a):\n",
    "    \n",
    "    n = len(a)\n",
    "    m = len(a[0])\n",
    "    r = 0\n",
    "    s= 0\n",
    "    listy = []\n",
    "    \n",
    "    # Work through row then column, shortening by one element each time\n",
    "    while r < m and s < n:\n",
    "    \n",
    "        for i in range(r,m-1):\n",
    "            listy.append(a[r][i])\n",
    "        \n",
    "        for j in range(s,n-1):\n",
    "            listy.append(a[j][m-1])\n",
    "        \n",
    "        for k in range(m-1,r,-1):\n",
    "            listy.append(a[n-1][k])\n",
    "    \n",
    "        for l in range(n-1,s,-1):\n",
    "            listy.append(a[l][s])\n",
    "\n",
    "        r +=  1\n",
    "        s +=  1\n",
    "        n += - 1\n",
    "        m +=  - 1  \n",
    "        \n",
    "    return listy\n",
    "\n",
    "a = [[1,  2,  3,  4,  5],\n",
    "     [6,  7,  8,  9,  10],\n",
    "     [11, 12, 13, 14, 15],\n",
    "     [16, 17, 18, 19, 20]]\n",
    "Spiraliser(a)"
   ]
  },
  {
   "cell_type": "markdown",
   "metadata": {},
   "source": [
    "#### 6) Given a 2D matrix of characters and a target word, write a function that returns whether the word can be found in the matrix by going left-to-right, or up-to-down.\n",
    "#### For example, given the following matrix:\n",
    "#### [['F', 'A', 'C', 'I'],\n",
    "####  ['O', 'B', 'Q', 'P'],\n",
    "####  ['A', 'N', 'O', 'B'],\n",
    "####  ['M', 'A', 'S', 'S']]\n",
    "#### and the target word 'FOAM', you should return true, since it's the leftmost column. Similarly, given the target word 'MASS', you should return true, since it's the last row."
   ]
  },
  {
   "cell_type": "code",
   "execution_count": null,
   "metadata": {},
   "outputs": [],
   "source": [
    "def searcher(a, target):\n",
    "    \n",
    "    # Get list of words going across rows\n",
    "    across_words = []\n",
    "    \n",
    "    for i in range(0,len(a)):\n",
    "        word = ''\n",
    "        word = word.join(a[i])\n",
    "        across_words.append(word)\n",
    "    \n",
    "    # Get list of words going down columns\n",
    "    down_words = []\n",
    "    \n",
    "    for j in range(0,len(a[0])):\n",
    "        word = ''\n",
    "        for i in range(0,len(a)):\n",
    "            word = word + a[i][j]\n",
    "        down_words.append(word)\n",
    "    \n",
    "    # Combine rows and columns into one list of words\n",
    "    all_words = across_words + down_words\n",
    "    \n",
    "    # Get permutations of all lengths from each word in the list\n",
    "    all_poss_words = []\n",
    "    \n",
    "    for word in all_words:\n",
    "        for i in range(0,len(word)):\n",
    "            for j in range(len(word),0,-1):\n",
    "                if i<j:\n",
    "                    all_poss_words.append(word[i:j])\n",
    "                    \n",
    "    return(target in all_poss_words)\n",
    "\n",
    "a =  [['F', 'A', 'C', 'I'],\n",
    "     ['O', 'B', 'Q', 'P'],\n",
    "     ['A', 'N', 'O', 'B'],\n",
    "     ['M', 'A', 'S', 'S']]\n",
    "\n",
    "searcher(a,'FOAM')"
   ]
  },
  {
   "cell_type": "markdown",
   "metadata": {},
   "source": [
    "#### 7) Given an unsorted array of integers, find the length of the longest increasing sequence. For example, given [100, 4, 200, 1, 9, 3, 6, 11, 44], the longest consecutive increasing sequence is [1, 3, 6, 11, 44]. \n",
    "#### Return its length: 5."
   ]
  },
  {
   "cell_type": "code",
   "execution_count": 1,
   "metadata": {},
   "outputs": [
    {
     "data": {
      "text/plain": [
       "5"
      ]
     },
     "execution_count": 1,
     "metadata": {},
     "output_type": "execute_result"
    }
   ],
   "source": [
    "def longest_conseq_streak(a):\n",
    "    \n",
    "    streaks = []\n",
    "    \n",
    "    # Start from the first number and see if the next number is bigger, if so append to streak, if not continue.\n",
    "    # Iterate through all numbers\n",
    "    for i in range(0,len(a)):\n",
    "        for k in range(1,len(a)):\n",
    "            seq = []\n",
    "            seq.append(a[i])\n",
    "            z = i\n",
    "            for j in range(k,len(a)):\n",
    "                if i<j and a[z] < a[j]:\n",
    "                    seq.append(a[j])\n",
    "                    z=j\n",
    "            streaks.append(seq)\n",
    "        \n",
    "\n",
    "        \n",
    "    #return streaks\n",
    "    return len(max(streaks, key=len))\n",
    "    \n",
    "longest_conseq_streak([100, 4, 200, 1, 3, 2, 6, 11, 44])"
   ]
  },
  {
   "cell_type": "markdown",
   "metadata": {},
   "source": [
    "#### 8) SImilar to the question above, but finding the longest consecutive increasing sequence where the order of the numbers doesn't matter, and the sequence has to be increasing by one each time"
   ]
  },
  {
   "cell_type": "code",
   "execution_count": 3,
   "metadata": {},
   "outputs": [
    {
     "data": {
      "text/plain": [
       "[1, 2, 3, 4]"
      ]
     },
     "execution_count": 3,
     "metadata": {},
     "output_type": "execute_result"
    }
   ],
   "source": [
    "def longest_conseq_streak(a):\n",
    "    \n",
    "    streak = []\n",
    "    \n",
    "    # With each number, search through the list to find the number one bigger, if exists append and repeat\n",
    "    for i in range(0,len(a)):\n",
    "        k = a[i]\n",
    "        sub_streak = [a[i]]\n",
    "        j = 0\n",
    "        while j < len(a):\n",
    "            if a[j] == k + 1:\n",
    "                sub_streak.append(a[j])\n",
    "                k = k + 1\n",
    "                j = 0\n",
    "            else:\n",
    "                j = j+1\n",
    "        streak.append(sub_streak)\n",
    "        \n",
    "    longest_list = max(streak, key=len) \n",
    "    return longest_list\n",
    "\n",
    "longest_conseq_streak([100, 4, 200, 1, 3, 2])"
   ]
  },
  {
   "cell_type": "markdown",
   "metadata": {},
   "source": [
    "#### 9) You are given n numbers as well as n probabilities that sum up to 1. Write a function to generate one of the numbers with its corresponding probability. For example, given the numbers [1, 2, 3, 4] and probabilities [0.1, 0.5, 0.2, 0.2], your function should return 1 10% of the time, 2 50% of the time, and 3 and 4 20% of the time. You can generate random numbers between 0 and 1 uniformly."
   ]
  },
  {
   "cell_type": "code",
   "execution_count": 2,
   "metadata": {},
   "outputs": [
    {
     "data": {
      "text/plain": [
       "2"
      ]
     },
     "execution_count": 2,
     "metadata": {},
     "output_type": "execute_result"
    }
   ],
   "source": [
    "import random\n",
    "\n",
    "def rand_num(a,p):\n",
    "    \n",
    "    prob_adds = []\n",
    "    adds = 0\n",
    "    \n",
    "    # Produce culmulative list of probabilities \n",
    "    for i in range(1,len(a)+1):\n",
    "        for j in range(0,i):\n",
    "            adds += p[j]\n",
    "        prob_adds.append(adds)\n",
    "        adds = 0\n",
    "    \n",
    "    # Get random number between 0 and 1\n",
    "    ran = random.uniform(0,1)\n",
    "    \n",
    "    # Compare random number to culumulative probabilities to return correct number\n",
    "    for i in range(0,len(prob_adds)):\n",
    "        if prob_adds[i] > ran:\n",
    "            return a[i]\n",
    "            break\n",
    "            \n",
    "rand_num([1, 2, 3, 4],[0.1, 0.5, 0.2, 0.2])"
   ]
  },
  {
   "cell_type": "markdown",
   "metadata": {},
   "source": [
    "#### 10) Given an array of positive integers, divide the array into two subsets such that the difference between the sum of the subsets is as small as possible. For example, given [5, 10, 15, 20, 25], return the sets {10, 25} and {5, 15, 20}, which has a difference of 5, which is the smallest possible difference."
   ]
  },
  {
   "cell_type": "code",
   "execution_count": null,
   "metadata": {},
   "outputs": [],
   "source": [
    "def smallest_difference(a):\n",
    "    \n",
    "    sets_1 = []\n",
    "    sets_2 = []\n",
    "    \n",
    "    # Use itertools to create a list of all possible combinations of all lengths\n",
    "    for i in range(len(a)):\n",
    "        for j in [j for j in itertools.combinations(a, i+1)]: \n",
    "            sets_1.append(set(j))\n",
    "            # Add the inverse of the first list to a second list\n",
    "            sets_2.append({i for i in a if not i in j})\n",
    "        \n",
    "    k = len(sets_1)\n",
    "    diffs = []\n",
    "    \n",
    "    # Caluclate difference between respective elements of each list\n",
    "    for l in range(0,k-1):\n",
    "        diffs.append(abs(sum(sets_1[l]) - sum(sets_2[l])))\n",
    "    \n",
    "    # Get the minimum difference\n",
    "    m = diffs.index(min(diffs))\n",
    "    \n",
    "    return(sets_1[m],sets_2[m])\n",
    "    \n",
    "a = [5, 10, 15, 20, 25]\n",
    "smallest_difference(a)"
   ]
  },
  {
   "cell_type": "markdown",
   "metadata": {},
   "source": [
    "#### 11) Given an array of numbers representing the stock prices of a company in chronological order,  write a function that calculates the maximum profit you could have made from buying and selling that stock. You're also given a number fee that represents a transaction fee for each buy and sell transaction.\n",
    "\n",
    "#### You must buy before you can sell the stock, but you can make as many transactions as you like.\n",
    "\n",
    "#### For example, given [1, 3, 2, 8, 4, 10] and fee = 2, you should return 9, since you could buy the stock at 1 dollar, and sell at 8 dollars, and then buy it at 4 dollars and sell it at 10 dollars. Since we did two transactions, there is a 4 dollar fee, so we have 7 + 6 = 13 profit minus 4 dollars of fees."
   ]
  },
  {
   "cell_type": "code",
   "execution_count": null,
   "metadata": {},
   "outputs": [],
   "source": [
    "def max_stocks_returner(a,z):\n",
    "    \n",
    "    # Iterate through the given list a to get all possible combinations (excluding ones of length one as obviously we cannot \n",
    "    # make a profit on those)\n",
    "    \n",
    "    combs = []\n",
    "    \n",
    "    for j in range(2,len(a)+1):\n",
    "        for k in [k for k in itertools.combinations(a,j)]:\n",
    "            combs.append(k)\n",
    "            \n",
    "    # Iterate through all possible combinations to take only those that follow an alternating pattern of the second number\n",
    "    # being larger than the first, then the next being smaller, the next being larger and so forth so we only keep combinations\n",
    "    # where we can buy then sell at a profit then potentially buy again and sell at a profit etc.\n",
    "    \n",
    "    possible_buy_and_sell_combs = []\n",
    "            \n",
    "    for l in combs:\n",
    "        for m in range(0,len(l)):\n",
    "            if m == len(l) -1:\n",
    "                possible_buy_and_sell_combs.append(l)\n",
    "            elif m%2 == 0 and l[m] < l[m+1]:\n",
    "                continue\n",
    "            elif m%2 == 0 and l[m] >= l[m+1]:\n",
    "                break\n",
    "            elif m%2 == 1 and l[m] > l[m+1]:\n",
    "                continue\n",
    "            elif m%2 == 1 and l[m] <= l[m+1]:\n",
    "                break\n",
    "                \n",
    "    # Next, we iterate through all combinations and only keep the ones that are of even length. This is because we want our\n",
    "    # last transaction to be a sell so we have maximum proft\n",
    "    \n",
    "    filtered_buy_and_sell_combs = []\n",
    "    \n",
    "    for i in possible_buy_and_sell_combs:\n",
    "        \n",
    "        if len(i)%2 == 0:\n",
    "            filtered_buy_and_sell_combs.append(i)\n",
    "        else:\n",
    "            continue\n",
    "            \n",
    "    # Finally, we iterate through all our possible combinations to find the profit.\n",
    "    # We do this buy setting an initial profit equal to the cost of our transactions, i.e. if the cost of a buy and sell is \n",
    "    # 2 and we've made two buy and sells we'd have lost 4 dollars on transactions, so we start with our profit = -4.\n",
    "    # We then take off all purchases, i.e. the even indexes in the list, then add on all sales, i.e. the odd indexes.\n",
    "    # This gives us our final profit\n",
    "    \n",
    "    profits = []\n",
    "    \n",
    "    for j in filtered_buy_and_sell_combs:\n",
    "        total = (-z * (len(j)/2))\n",
    "        for i in range(0,len(j)):\n",
    "            if i%2 == 0:\n",
    "                total += -j[i]\n",
    "            else:\n",
    "                total += j[i]\n",
    "        profits.append(total)\n",
    "            \n",
    "    # Finally, return the maximum profit we can make            \n",
    "            \n",
    "    return max(profits)\n",
    "        \n",
    "max_stocks_returner([1, 3, 2, 8, 4, 10],2)"
   ]
  },
  {
   "cell_type": "markdown",
   "metadata": {},
   "source": [
    "#### 12) Given a number in Roman numeral format, convert it to decimal.\n",
    "#### The values of Roman numerals are as follows:\n",
    "#### {\n",
    "####    'M': 1000,\n",
    "####    'D': 500,\n",
    "####    'C': 100,\n",
    "####    'L': 50,\n",
    "####    'X': 10,\n",
    "####    'V': 5,\n",
    "####    'I': 1\n",
    "#### }\n",
    "#### In addition, note that the Roman numeral system uses subtractive notation for numbers such as IV and XL. For the input XIV, for instance, you should return 14."
   ]
  },
  {
   "cell_type": "code",
   "execution_count": null,
   "metadata": {},
   "outputs": [],
   "source": [
    "def RomanNumeralCalculator(numerals):\n",
    "    \n",
    "    roman_dict = {\n",
    "                \"I\" : 1,\n",
    "                \"V\" : 5,\n",
    "                \"X\" : 10,\n",
    "                \"L\" : 50,\n",
    "                \"C\" : 100,\n",
    "                \"D\" : 500,\n",
    "                \"M\" : 1000}\n",
    "    \n",
    "    total = 0\n",
    "    for i in range(len(numerals)-1,-1,-1):\n",
    "        \n",
    "        if i == len(numerals) - 1:\n",
    "            total += roman_dict.get(numerals[i])\n",
    "            \n",
    "        elif roman_dict.get(numerals[i]) < roman_dict.get(numerals[i+1]):\n",
    "            total += - roman_dict.get(numerals[i])\n",
    "            \n",
    "        elif roman_dict.get(numerals[i]) > roman_dict.get(numerals[i+1]):\n",
    "            total += roman_dict.get(numerals[i])\n",
    "            \n",
    "        elif roman_dict.get(numerals[i]) ==  roman_dict.get(numerals[i+1]):\n",
    "            \n",
    "            if i + 1 == len(numerals) - 1:\n",
    "                total += roman_dict.get(numerals[i])\n",
    "            \n",
    "            elif roman_dict.get(numerals[i]) < roman_dict.get(numerals[i+2]):\n",
    "                total += - roman_dict.get(numerals[i])\n",
    "            \n",
    "            elif roman_dict.get(numerals[i]) > roman_dict.get(numerals[i+2]):\n",
    "                total += roman_dict.get(numerals[i])\n",
    "            \n",
    "            elif roman_dict.get(numerals[i]) ==  roman_dict.get(numerals[i+2]):\n",
    "                total += roman_dict.get(numerals[i])\n",
    "                \n",
    "    return total\n",
    "                \n",
    "    \n",
    "RomanNumeralCalculator(\"XIV\") "
   ]
  }
 ],
 "metadata": {
  "kernelspec": {
   "display_name": "Python 3",
   "language": "python",
   "name": "python3"
  },
  "language_info": {
   "codemirror_mode": {
    "name": "ipython",
    "version": 3
   },
   "file_extension": ".py",
   "mimetype": "text/x-python",
   "name": "python",
   "nbconvert_exporter": "python",
   "pygments_lexer": "ipython3",
   "version": "3.6.7"
  },
  "varInspector": {
   "cols": {
    "lenName": 16,
    "lenType": 16,
    "lenVar": 40
   },
   "kernels_config": {
    "python": {
     "delete_cmd_postfix": "",
     "delete_cmd_prefix": "del ",
     "library": "var_list.py",
     "varRefreshCmd": "print(var_dic_list())"
    },
    "r": {
     "delete_cmd_postfix": ") ",
     "delete_cmd_prefix": "rm(",
     "library": "var_list.r",
     "varRefreshCmd": "cat(var_dic_list()) "
    }
   },
   "types_to_exclude": [
    "module",
    "function",
    "builtin_function_or_method",
    "instance",
    "_Feature"
   ],
   "window_display": false
  }
 },
 "nbformat": 4,
 "nbformat_minor": 2
}
